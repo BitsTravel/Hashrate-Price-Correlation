{
 "cells": [
  {
   "cell_type": "code",
   "execution_count": 157,
   "metadata": {},
   "outputs": [],
   "source": [
    "import numpy as np\n",
    "import pandas as pd\n",
    "import matplotlib.pyplot as plt"
   ]
  },
  {
   "cell_type": "markdown",
   "metadata": {},
   "source": [
    "## Importing Hash rate and Price CSV Data"
   ]
  },
  {
   "cell_type": "code",
   "execution_count": 158,
   "metadata": {},
   "outputs": [],
   "source": [
    "df1=pd.read_csv('hash-rate.csv',header=None)\n",
    "df2=pd.read_csv('market-price.csv',header=None)"
   ]
  },
  {
   "cell_type": "markdown",
   "metadata": {},
   "source": [
    "## concatenate Price and Hash rate into a table \n"
   ]
  },
  {
   "cell_type": "code",
   "execution_count": 159,
   "metadata": {
    "scrolled": true
   },
   "outputs": [
    {
     "data": {
      "text/html": [
       "<div>\n",
       "<style scoped>\n",
       "    .dataframe tbody tr th:only-of-type {\n",
       "        vertical-align: middle;\n",
       "    }\n",
       "\n",
       "    .dataframe tbody tr th {\n",
       "        vertical-align: top;\n",
       "    }\n",
       "\n",
       "    .dataframe thead th {\n",
       "        text-align: right;\n",
       "    }\n",
       "</style>\n",
       "<table border=\"1\" class=\"dataframe\">\n",
       "  <thead>\n",
       "    <tr style=\"text-align: right;\">\n",
       "      <th></th>\n",
       "      <th>Date</th>\n",
       "      <th>Hash_rate</th>\n",
       "      <th>Price</th>\n",
       "    </tr>\n",
       "  </thead>\n",
       "  <tbody>\n",
       "    <tr>\n",
       "      <th>0</th>\n",
       "      <td>2009-01-03 00:00:00</td>\n",
       "      <td>4.971027e-08</td>\n",
       "      <td>0.000000</td>\n",
       "    </tr>\n",
       "    <tr>\n",
       "      <th>1</th>\n",
       "      <td>2009-01-05 00:00:00</td>\n",
       "      <td>0.000000e+00</td>\n",
       "      <td>0.000000</td>\n",
       "    </tr>\n",
       "    <tr>\n",
       "      <th>2</th>\n",
       "      <td>2009-01-07 00:00:00</td>\n",
       "      <td>0.000000e+00</td>\n",
       "      <td>0.000000</td>\n",
       "    </tr>\n",
       "    <tr>\n",
       "      <th>3</th>\n",
       "      <td>2009-01-09 00:00:00</td>\n",
       "      <td>6.959438e-07</td>\n",
       "      <td>0.000000</td>\n",
       "    </tr>\n",
       "    <tr>\n",
       "      <th>4</th>\n",
       "      <td>2009-01-11 00:00:00</td>\n",
       "      <td>5.269289e-06</td>\n",
       "      <td>0.000000</td>\n",
       "    </tr>\n",
       "    <tr>\n",
       "      <th>5</th>\n",
       "      <td>2009-01-13 00:00:00</td>\n",
       "      <td>5.716681e-06</td>\n",
       "      <td>0.000000</td>\n",
       "    </tr>\n",
       "    <tr>\n",
       "      <th>6</th>\n",
       "      <td>2009-01-15 00:00:00</td>\n",
       "      <td>6.313204e-06</td>\n",
       "      <td>0.000000</td>\n",
       "    </tr>\n",
       "    <tr>\n",
       "      <th>7</th>\n",
       "      <td>2009-01-17 00:00:00</td>\n",
       "      <td>5.368709e-06</td>\n",
       "      <td>0.000000</td>\n",
       "    </tr>\n",
       "    <tr>\n",
       "      <th>8</th>\n",
       "      <td>2009-01-19 00:00:00</td>\n",
       "      <td>5.915522e-06</td>\n",
       "      <td>0.000000</td>\n",
       "    </tr>\n",
       "    <tr>\n",
       "      <th>9</th>\n",
       "      <td>2009-01-21 00:00:00</td>\n",
       "      <td>5.617260e-06</td>\n",
       "      <td>0.000000</td>\n",
       "    </tr>\n",
       "    <tr>\n",
       "      <th>10</th>\n",
       "      <td>2009-01-23 00:00:00</td>\n",
       "      <td>3.330588e-06</td>\n",
       "      <td>0.000000</td>\n",
       "    </tr>\n",
       "    <tr>\n",
       "      <th>11</th>\n",
       "      <td>2009-01-25 00:00:00</td>\n",
       "      <td>9.643792e-06</td>\n",
       "      <td>0.000000</td>\n",
       "    </tr>\n",
       "    <tr>\n",
       "      <th>12</th>\n",
       "      <td>2009-01-27 00:00:00</td>\n",
       "      <td>5.120158e-06</td>\n",
       "      <td>0.000000</td>\n",
       "    </tr>\n",
       "    <tr>\n",
       "      <th>13</th>\n",
       "      <td>2009-01-29 00:00:00</td>\n",
       "      <td>6.064653e-06</td>\n",
       "      <td>0.000000</td>\n",
       "    </tr>\n",
       "    <tr>\n",
       "      <th>14</th>\n",
       "      <td>2009-01-31 00:00:00</td>\n",
       "      <td>6.412625e-06</td>\n",
       "      <td>0.000000</td>\n",
       "    </tr>\n",
       "    <tr>\n",
       "      <th>15</th>\n",
       "      <td>2009-02-02 00:00:00</td>\n",
       "      <td>6.313204e-06</td>\n",
       "      <td>0.000000</td>\n",
       "    </tr>\n",
       "    <tr>\n",
       "      <th>16</th>\n",
       "      <td>2009-02-04 00:00:00</td>\n",
       "      <td>6.114363e-06</td>\n",
       "      <td>0.000000</td>\n",
       "    </tr>\n",
       "    <tr>\n",
       "      <th>17</th>\n",
       "      <td>2009-02-06 00:00:00</td>\n",
       "      <td>6.412625e-06</td>\n",
       "      <td>0.000000</td>\n",
       "    </tr>\n",
       "    <tr>\n",
       "      <th>18</th>\n",
       "      <td>2009-02-08 00:00:00</td>\n",
       "      <td>6.661176e-06</td>\n",
       "      <td>0.000000</td>\n",
       "    </tr>\n",
       "    <tr>\n",
       "      <th>19</th>\n",
       "      <td>2009-02-10 00:00:00</td>\n",
       "      <td>6.313204e-06</td>\n",
       "      <td>0.000000</td>\n",
       "    </tr>\n",
       "    <tr>\n",
       "      <th>20</th>\n",
       "      <td>2009-02-12 00:00:00</td>\n",
       "      <td>5.865812e-06</td>\n",
       "      <td>0.000000</td>\n",
       "    </tr>\n",
       "    <tr>\n",
       "      <th>21</th>\n",
       "      <td>2009-02-14 00:00:00</td>\n",
       "      <td>7.009148e-06</td>\n",
       "      <td>0.000000</td>\n",
       "    </tr>\n",
       "    <tr>\n",
       "      <th>22</th>\n",
       "      <td>2009-02-16 00:00:00</td>\n",
       "      <td>6.114363e-06</td>\n",
       "      <td>0.000000</td>\n",
       "    </tr>\n",
       "    <tr>\n",
       "      <th>23</th>\n",
       "      <td>2009-02-18 00:00:00</td>\n",
       "      <td>6.164073e-06</td>\n",
       "      <td>0.000000</td>\n",
       "    </tr>\n",
       "    <tr>\n",
       "      <th>24</th>\n",
       "      <td>2009-02-20 00:00:00</td>\n",
       "      <td>6.362915e-06</td>\n",
       "      <td>0.000000</td>\n",
       "    </tr>\n",
       "    <tr>\n",
       "      <th>25</th>\n",
       "      <td>2009-02-22 00:00:00</td>\n",
       "      <td>6.014943e-06</td>\n",
       "      <td>0.000000</td>\n",
       "    </tr>\n",
       "    <tr>\n",
       "      <th>26</th>\n",
       "      <td>2009-02-24 00:00:00</td>\n",
       "      <td>5.517840e-06</td>\n",
       "      <td>0.000000</td>\n",
       "    </tr>\n",
       "    <tr>\n",
       "      <th>27</th>\n",
       "      <td>2009-02-26 00:00:00</td>\n",
       "      <td>4.772186e-06</td>\n",
       "      <td>0.000000</td>\n",
       "    </tr>\n",
       "    <tr>\n",
       "      <th>28</th>\n",
       "      <td>2009-02-28 00:00:00</td>\n",
       "      <td>5.070448e-06</td>\n",
       "      <td>0.000000</td>\n",
       "    </tr>\n",
       "    <tr>\n",
       "      <th>29</th>\n",
       "      <td>2009-03-02 00:00:00</td>\n",
       "      <td>5.169868e-06</td>\n",
       "      <td>0.000000</td>\n",
       "    </tr>\n",
       "    <tr>\n",
       "      <th>...</th>\n",
       "      <td>...</td>\n",
       "      <td>...</td>\n",
       "      <td>...</td>\n",
       "    </tr>\n",
       "    <tr>\n",
       "      <th>1824</th>\n",
       "      <td>2018-12-30 00:00:00</td>\n",
       "      <td>4.467613e+07</td>\n",
       "      <td>3832.921667</td>\n",
       "    </tr>\n",
       "    <tr>\n",
       "      <th>1825</th>\n",
       "      <td>2019-01-01 00:00:00</td>\n",
       "      <td>4.161599e+07</td>\n",
       "      <td>3752.271667</td>\n",
       "    </tr>\n",
       "    <tr>\n",
       "      <th>1826</th>\n",
       "      <td>2019-01-03 00:00:00</td>\n",
       "      <td>4.329180e+07</td>\n",
       "      <td>3865.797500</td>\n",
       "    </tr>\n",
       "    <tr>\n",
       "      <th>1827</th>\n",
       "      <td>2019-01-05 00:00:00</td>\n",
       "      <td>4.552621e+07</td>\n",
       "      <td>3868.487500</td>\n",
       "    </tr>\n",
       "    <tr>\n",
       "      <th>1828</th>\n",
       "      <td>2019-01-07 00:00:00</td>\n",
       "      <td>3.938157e+07</td>\n",
       "      <td>4036.093333</td>\n",
       "    </tr>\n",
       "    <tr>\n",
       "      <th>1829</th>\n",
       "      <td>2019-01-09 00:00:00</td>\n",
       "      <td>4.580551e+07</td>\n",
       "      <td>4034.138333</td>\n",
       "    </tr>\n",
       "    <tr>\n",
       "      <th>1830</th>\n",
       "      <td>2019-01-11 00:00:00</td>\n",
       "      <td>4.133668e+07</td>\n",
       "      <td>3656.735833</td>\n",
       "    </tr>\n",
       "    <tr>\n",
       "      <th>1831</th>\n",
       "      <td>2019-01-13 00:00:00</td>\n",
       "      <td>3.826436e+07</td>\n",
       "      <td>3599.841667</td>\n",
       "    </tr>\n",
       "    <tr>\n",
       "      <th>1832</th>\n",
       "      <td>2019-01-15 00:00:00</td>\n",
       "      <td>3.860929e+07</td>\n",
       "      <td>3656.785000</td>\n",
       "    </tr>\n",
       "    <tr>\n",
       "      <th>1833</th>\n",
       "      <td>2019-01-17 00:00:00</td>\n",
       "      <td>3.714682e+07</td>\n",
       "      <td>3619.964167</td>\n",
       "    </tr>\n",
       "    <tr>\n",
       "      <th>1834</th>\n",
       "      <td>2019-01-19 00:00:00</td>\n",
       "      <td>3.890179e+07</td>\n",
       "      <td>3690.523333</td>\n",
       "    </tr>\n",
       "    <tr>\n",
       "      <th>1835</th>\n",
       "      <td>2019-01-21 00:00:00</td>\n",
       "      <td>4.387420e+07</td>\n",
       "      <td>3548.427500</td>\n",
       "    </tr>\n",
       "    <tr>\n",
       "      <th>1836</th>\n",
       "      <td>2019-01-23 00:00:00</td>\n",
       "      <td>4.270422e+07</td>\n",
       "      <td>3579.896667</td>\n",
       "    </tr>\n",
       "    <tr>\n",
       "      <th>1837</th>\n",
       "      <td>2019-01-25 00:00:00</td>\n",
       "      <td>4.036426e+07</td>\n",
       "      <td>3572.735000</td>\n",
       "    </tr>\n",
       "    <tr>\n",
       "      <th>1838</th>\n",
       "      <td>2019-01-27 00:00:00</td>\n",
       "      <td>4.007177e+07</td>\n",
       "      <td>3567.763333</td>\n",
       "    </tr>\n",
       "    <tr>\n",
       "      <th>1839</th>\n",
       "      <td>2019-01-29 00:00:00</td>\n",
       "      <td>4.220107e+07</td>\n",
       "      <td>3417.167500</td>\n",
       "    </tr>\n",
       "    <tr>\n",
       "      <th>1840</th>\n",
       "      <td>2019-01-31 00:00:00</td>\n",
       "      <td>4.480250e+07</td>\n",
       "      <td>3454.008824</td>\n",
       "    </tr>\n",
       "    <tr>\n",
       "      <th>1841</th>\n",
       "      <td>2019-02-02 00:00:00</td>\n",
       "      <td>4.162297e+07</td>\n",
       "      <td>3470.079167</td>\n",
       "    </tr>\n",
       "    <tr>\n",
       "      <th>1842</th>\n",
       "      <td>2019-02-04 00:00:00</td>\n",
       "      <td>4.249012e+07</td>\n",
       "      <td>3452.328333</td>\n",
       "    </tr>\n",
       "    <tr>\n",
       "      <th>1843</th>\n",
       "      <td>2019-02-06 00:00:00</td>\n",
       "      <td>4.740394e+07</td>\n",
       "      <td>3406.820833</td>\n",
       "    </tr>\n",
       "    <tr>\n",
       "      <th>1844</th>\n",
       "      <td>2019-02-08 00:00:00</td>\n",
       "      <td>4.711489e+07</td>\n",
       "      <td>3498.868333</td>\n",
       "    </tr>\n",
       "    <tr>\n",
       "      <th>1845</th>\n",
       "      <td>2019-02-10 00:00:00</td>\n",
       "      <td>4.218476e+07</td>\n",
       "      <td>3645.276667</td>\n",
       "    </tr>\n",
       "    <tr>\n",
       "      <th>1846</th>\n",
       "      <td>2019-02-12 00:00:00</td>\n",
       "      <td>3.856893e+07</td>\n",
       "      <td>3624.155833</td>\n",
       "    </tr>\n",
       "    <tr>\n",
       "      <th>1847</th>\n",
       "      <td>2019-02-14 00:00:00</td>\n",
       "      <td>4.248608e+07</td>\n",
       "      <td>3609.869167</td>\n",
       "    </tr>\n",
       "    <tr>\n",
       "      <th>1848</th>\n",
       "      <td>2019-02-16 00:00:00</td>\n",
       "      <td>4.519796e+07</td>\n",
       "      <td>3630.396667</td>\n",
       "    </tr>\n",
       "    <tr>\n",
       "      <th>1849</th>\n",
       "      <td>2019-02-18 00:00:00</td>\n",
       "      <td>4.670456e+07</td>\n",
       "      <td>3810.781538</td>\n",
       "    </tr>\n",
       "    <tr>\n",
       "      <th>1850</th>\n",
       "      <td>2019-02-20 00:00:00</td>\n",
       "      <td>3.917157e+07</td>\n",
       "      <td>3951.565000</td>\n",
       "    </tr>\n",
       "    <tr>\n",
       "      <th>1851</th>\n",
       "      <td>2019-02-22 00:00:00</td>\n",
       "      <td>4.881380e+07</td>\n",
       "      <td>3968.656667</td>\n",
       "    </tr>\n",
       "    <tr>\n",
       "      <th>1852</th>\n",
       "      <td>2019-02-24 00:00:00</td>\n",
       "      <td>4.135114e+07</td>\n",
       "      <td>4020.125833</td>\n",
       "    </tr>\n",
       "    <tr>\n",
       "      <th>1853</th>\n",
       "      <td>2019-02-26 00:00:00</td>\n",
       "      <td>4.859513e+07</td>\n",
       "      <td>3833.310833</td>\n",
       "    </tr>\n",
       "  </tbody>\n",
       "</table>\n",
       "<p>1854 rows × 3 columns</p>\n",
       "</div>"
      ],
      "text/plain": [
       "                     Date     Hash_rate        Price\n",
       "0     2009-01-03 00:00:00  4.971027e-08     0.000000\n",
       "1     2009-01-05 00:00:00  0.000000e+00     0.000000\n",
       "2     2009-01-07 00:00:00  0.000000e+00     0.000000\n",
       "3     2009-01-09 00:00:00  6.959438e-07     0.000000\n",
       "4     2009-01-11 00:00:00  5.269289e-06     0.000000\n",
       "5     2009-01-13 00:00:00  5.716681e-06     0.000000\n",
       "6     2009-01-15 00:00:00  6.313204e-06     0.000000\n",
       "7     2009-01-17 00:00:00  5.368709e-06     0.000000\n",
       "8     2009-01-19 00:00:00  5.915522e-06     0.000000\n",
       "9     2009-01-21 00:00:00  5.617260e-06     0.000000\n",
       "10    2009-01-23 00:00:00  3.330588e-06     0.000000\n",
       "11    2009-01-25 00:00:00  9.643792e-06     0.000000\n",
       "12    2009-01-27 00:00:00  5.120158e-06     0.000000\n",
       "13    2009-01-29 00:00:00  6.064653e-06     0.000000\n",
       "14    2009-01-31 00:00:00  6.412625e-06     0.000000\n",
       "15    2009-02-02 00:00:00  6.313204e-06     0.000000\n",
       "16    2009-02-04 00:00:00  6.114363e-06     0.000000\n",
       "17    2009-02-06 00:00:00  6.412625e-06     0.000000\n",
       "18    2009-02-08 00:00:00  6.661176e-06     0.000000\n",
       "19    2009-02-10 00:00:00  6.313204e-06     0.000000\n",
       "20    2009-02-12 00:00:00  5.865812e-06     0.000000\n",
       "21    2009-02-14 00:00:00  7.009148e-06     0.000000\n",
       "22    2009-02-16 00:00:00  6.114363e-06     0.000000\n",
       "23    2009-02-18 00:00:00  6.164073e-06     0.000000\n",
       "24    2009-02-20 00:00:00  6.362915e-06     0.000000\n",
       "25    2009-02-22 00:00:00  6.014943e-06     0.000000\n",
       "26    2009-02-24 00:00:00  5.517840e-06     0.000000\n",
       "27    2009-02-26 00:00:00  4.772186e-06     0.000000\n",
       "28    2009-02-28 00:00:00  5.070448e-06     0.000000\n",
       "29    2009-03-02 00:00:00  5.169868e-06     0.000000\n",
       "...                   ...           ...          ...\n",
       "1824  2018-12-30 00:00:00  4.467613e+07  3832.921667\n",
       "1825  2019-01-01 00:00:00  4.161599e+07  3752.271667\n",
       "1826  2019-01-03 00:00:00  4.329180e+07  3865.797500\n",
       "1827  2019-01-05 00:00:00  4.552621e+07  3868.487500\n",
       "1828  2019-01-07 00:00:00  3.938157e+07  4036.093333\n",
       "1829  2019-01-09 00:00:00  4.580551e+07  4034.138333\n",
       "1830  2019-01-11 00:00:00  4.133668e+07  3656.735833\n",
       "1831  2019-01-13 00:00:00  3.826436e+07  3599.841667\n",
       "1832  2019-01-15 00:00:00  3.860929e+07  3656.785000\n",
       "1833  2019-01-17 00:00:00  3.714682e+07  3619.964167\n",
       "1834  2019-01-19 00:00:00  3.890179e+07  3690.523333\n",
       "1835  2019-01-21 00:00:00  4.387420e+07  3548.427500\n",
       "1836  2019-01-23 00:00:00  4.270422e+07  3579.896667\n",
       "1837  2019-01-25 00:00:00  4.036426e+07  3572.735000\n",
       "1838  2019-01-27 00:00:00  4.007177e+07  3567.763333\n",
       "1839  2019-01-29 00:00:00  4.220107e+07  3417.167500\n",
       "1840  2019-01-31 00:00:00  4.480250e+07  3454.008824\n",
       "1841  2019-02-02 00:00:00  4.162297e+07  3470.079167\n",
       "1842  2019-02-04 00:00:00  4.249012e+07  3452.328333\n",
       "1843  2019-02-06 00:00:00  4.740394e+07  3406.820833\n",
       "1844  2019-02-08 00:00:00  4.711489e+07  3498.868333\n",
       "1845  2019-02-10 00:00:00  4.218476e+07  3645.276667\n",
       "1846  2019-02-12 00:00:00  3.856893e+07  3624.155833\n",
       "1847  2019-02-14 00:00:00  4.248608e+07  3609.869167\n",
       "1848  2019-02-16 00:00:00  4.519796e+07  3630.396667\n",
       "1849  2019-02-18 00:00:00  4.670456e+07  3810.781538\n",
       "1850  2019-02-20 00:00:00  3.917157e+07  3951.565000\n",
       "1851  2019-02-22 00:00:00  4.881380e+07  3968.656667\n",
       "1852  2019-02-24 00:00:00  4.135114e+07  4020.125833\n",
       "1853  2019-02-26 00:00:00  4.859513e+07  3833.310833\n",
       "\n",
       "[1854 rows x 3 columns]"
      ]
     },
     "execution_count": 159,
     "metadata": {},
     "output_type": "execute_result"
    }
   ],
   "source": [
    "df= pd.concat([df1, df2], axis=1)\n",
    "df.columns=['Date','Hash_rate','date2','Price']\n",
    "df.drop(['date2'], axis=1)"
   ]
  },
  {
   "cell_type": "markdown",
   "metadata": {},
   "source": [
    "### Removing Empty data rows"
   ]
  },
  {
   "cell_type": "code",
   "execution_count": 160,
   "metadata": {},
   "outputs": [],
   "source": [
    "df.dropna(subset=['Price'],axis=0,inplace=True)"
   ]
  },
  {
   "cell_type": "markdown",
   "metadata": {},
   "source": [
    "### Checking Data types"
   ]
  },
  {
   "cell_type": "code",
   "execution_count": 161,
   "metadata": {},
   "outputs": [
    {
     "data": {
      "text/plain": [
       "dtype('float64')"
      ]
     },
     "execution_count": 161,
     "metadata": {},
     "output_type": "execute_result"
    }
   ],
   "source": [
    "df.Hash_rate.dtype\n",
    "df.Price.dtype"
   ]
  },
  {
   "cell_type": "markdown",
   "metadata": {},
   "source": [
    "## Getting correlation coefficient "
   ]
  },
  {
   "cell_type": "code",
   "execution_count": 162,
   "metadata": {},
   "outputs": [],
   "source": [
    "X=df.Hash_rate\n",
    "Y=df.Price\n",
    "\n",
    "\n"
   ]
  },
  {
   "cell_type": "code",
   "execution_count": 143,
   "metadata": {},
   "outputs": [
    {
     "name": "stdout",
     "output_type": "stream",
     "text": [
      "Correlation Coefficients: \n"
     ]
    },
    {
     "data": {
      "text/plain": [
       "0.7138189719785866"
      ]
     },
     "execution_count": 143,
     "metadata": {},
     "output_type": "execute_result"
    }
   ],
   "source": [
    "print(\"Correlation Coefficients: \")\n",
    "np.corrcoef(X,Y)[0,1]"
   ]
  },
  {
   "cell_type": "markdown",
   "metadata": {},
   "source": [
    "## Display\n",
    "\n",
    "X asix is Hash rate and Y axis is the price. Plot below is showing relationship between Price and Bitcoin Hash rate"
   ]
  },
  {
   "cell_type": "code",
   "execution_count": 137,
   "metadata": {},
   "outputs": [
    {
     "data": {
      "text/plain": [
       "Text(0, 0.5, 'Price')"
      ]
     },
     "execution_count": 137,
     "metadata": {},
     "output_type": "execute_result"
    },
    {
     "data": {
      "image/png": "[encoded data removed]",
      "text/plain": [
       "<Figure size 1440x720 with 1 Axes>"
      ]
     },
     "metadata": {
      "needs_background": "light"
     },
     "output_type": "display_data"
    }
   ],
   "source": [
    "plt.scatter(X,Y)\n",
    "plt.rcParams['figure.figsize']=(30,15)\n",
    "plt.xlabel(\"Hash rate\")\n",
    "plt.ylabel(\"Price\")"
   ]
  },
  {
   "cell_type": "markdown",
   "metadata": {},
   "source": [
    "## Spearman Ranking \n",
    "\n",
    "__[Spearman's rank correlation coefficient](https://en.wikipedia.org/wiki/Spearman%27s_rank_correlation_coefficient)__"
   ]
  },
  {
   "cell_type": "code",
   "execution_count": 154,
   "metadata": {},
   "outputs": [],
   "source": [
    "import scipy.stats as stats\n",
    "import math"
   ]
  },
  {
   "cell_type": "code",
   "execution_count": 147,
   "metadata": {},
   "outputs": [],
   "source": [
    "Hash_rank=list(stats.rankdata(X,method='average'))\n"
   ]
  },
  {
   "cell_type": "code",
   "execution_count": 148,
   "metadata": {},
   "outputs": [],
   "source": [
    "Price_rank=list(stats.rankdata(Y,method='average'))"
   ]
  },
  {
   "cell_type": "code",
   "execution_count": 149,
   "metadata": {},
   "outputs": [
    {
     "data": {
      "text/plain": [
       "0.9617051122746969"
      ]
     },
     "execution_count": 149,
     "metadata": {},
     "output_type": "execute_result"
    }
   ],
   "source": [
    "np.corrcoef(Hash_rank,Price_rank)[0,1]"
   ]
  },
  {
   "cell_type": "code",
   "execution_count": 163,
   "metadata": {},
   "outputs": [],
   "source": [
    "r_S=stats.spearmanr(X,Y)\n"
   ]
  },
  {
   "cell_type": "code",
   "execution_count": 164,
   "metadata": {},
   "outputs": [
    {
     "name": "stdout",
     "output_type": "stream",
     "text": [
      "SpearmanrResult(correlation=0.9617051122746968, pvalue=0.0)\n"
     ]
    }
   ],
   "source": [
    "print (r_S)"
   ]
  },
  {
   "cell_type": "code",
   "execution_count": 169,
   "metadata": {},
   "outputs": [
    {
     "data": {
      "text/plain": [
       "Text(0.5, 0, 'Hash rank')"
      ]
     },
     "execution_count": 169,
     "metadata": {},
     "output_type": "execute_result"
    },
    {
     "data": {
      "image/png": "[encoded data removed]",
      "text/plain": [
       "<Figure size 2160x1080 with 1 Axes>"
      ]
     },
     "metadata": {
      "needs_background": "light"
     },
     "output_type": "display_data"
    }
   ],
   "source": [
    "plt.scatter(Hash_rank,Price_rank)\n",
    "plt.xlabel(\"Hash rank\")\n",
    "plt.ylable(\"price rank\")"
   ]
  },
  {
   "cell_type": "code",
   "execution_count": null,
   "metadata": {},
   "outputs": [],
   "source": []
  }
 ],
 "metadata": {
  "kernelspec": {
   "display_name": "Python 3",
   "language": "python",
   "name": "python3"
  },
  "language_info": {
   "codemirror_mode": {
    "name": "ipython",
    "version": 3
   },
   "file_extension": ".py",
   "mimetype": "text/x-python",
   "name": "python",
   "nbconvert_exporter": "python",
   "pygments_lexer": "ipython3",
   "version": "3.6.7"
  }
 },
 "nbformat": 4,
 "nbformat_minor": 2
}
